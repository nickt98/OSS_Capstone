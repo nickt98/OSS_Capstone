{
 "cells": [
  {
   "cell_type": "code",
   "execution_count": 1,
   "metadata": {},
   "outputs": [],
   "source": [
    "#import libraries\n",
    "import os\n",
    "import requests\n",
    "from bs4 import BeautifulSoup\n",
    "import pandas as pd\n",
    "import json\n",
    "import time"
   ]
  },
  {
   "cell_type": "markdown",
   "metadata": {},
   "source": [
    "There were a few APIs at the time of this notebook.\n",
    "Directly at pypi\n",
    "- https://wiki.python.org/moin/PyPIJSON\n",
    "- In the format https://pypi.python.org/pypi/<package_name>/json\n",
    "\n",
    "There is also https://pypistats.org/\n",
    " - They ask that any large amount of API access go through Google Big Query\n",
    "\n",
    "Google Big Query\n",
    "- https://cloud.google.com/docs/authentication/getting-started\n",
    "- https://bigquery.cloud.google.com/table/the-psf:pypi.downloads\n"
   ]
  },
  {
   "cell_type": "code",
   "execution_count": 2,
   "metadata": {},
   "outputs": [],
   "source": [
    "# May need to install these\n",
    "#!pip install jk_pypiorgapi\n",
    "#!pip install pyarrow"
   ]
  },
  {
   "cell_type": "markdown",
   "metadata": {},
   "source": [
    "## Authenticate and Construct Google Big Query Object"
   ]
  },
  {
   "cell_type": "code",
   "execution_count": 5,
   "metadata": {},
   "outputs": [],
   "source": [
    "from google.cloud import bigquery\n",
    "from google.oauth2 import service_account\n",
    "\n",
    "# TODO(developer): Set key_path to the path to the service account key\n",
    "#                  file.\n",
    "key_path = \"msdscapstone-db80de77b383.json\"\n",
    "\n",
    "credentials = service_account.Credentials.from_service_account_file(\n",
    "    key_path, scopes=[\"https://www.googleapis.com/auth/cloud-platform\"],\n",
    ")\n",
    "\n",
    "client = bigquery.Client(credentials=credentials, project=credentials.project_id,)"
   ]
  },
  {
   "cell_type": "markdown",
   "metadata": {},
   "source": [
    "## Pypi Distribution Metadata Statistics and Data Download Queries"
   ]
  },
  {
   "cell_type": "code",
   "execution_count": null,
   "metadata": {},
   "outputs": [],
   "source": [
    "# Find schema for thsi table here: https://docs.google.com/document/d/1mtZD2iw0TmzfNepCABdMCkhk-jwLgdgFP9awSkccwaw/edit#"
   ]
  },
  {
   "cell_type": "code",
   "execution_count": 3,
   "metadata": {},
   "outputs": [
    {
     "name": "stdout",
     "output_type": "stream",
     "text": [
      "Row count with licenses = 4223089\n"
     ]
    }
   ],
   "source": [
    "#This query gives number of rows in the distribution meta data table\n",
    "query = \"\"\"\n",
    "    SELECT Count(*) \n",
    "    FROM `the-psf.pypi.distribution_metadata`\n",
    "    WHERE license is NOT NULL\n",
    "\"\"\"\n",
    "query_job = client.query(query)  # Make an API request.\n",
    "results = query_job.result()  # Waits for job to complete.\n",
    "#iterate through results object to fetch rows.\n",
    "for row in results:\n",
    "    row = str(row)[5:].split(',')[0]\n",
    "    print(f\"Row count with licenses = {row}\")"
   ]
  },
  {
   "cell_type": "code",
   "execution_count": 55,
   "metadata": {},
   "outputs": [
    {
     "name": "stdout",
     "output_type": "stream",
     "text": [
      "The query data:\n",
      "rows with license and with home page in github = 2861425\n"
     ]
    }
   ],
   "source": [
    "#This query gives number of rows in the distribution meta data table which have licenses and have the home_page in github\n",
    "query = \"\"\"\n",
    "    SELECT count(*)\n",
    "    FROM `the-psf.pypi.distribution_metadata`\n",
    "    WHERE (lower(license)!='none' or lower(license)!='no license' or license is NOT NULL) and\n",
    "    version NOT LIKE '%%dev%%' and home_page LIKE '%%github%%    \n",
    "\"\"\"\n",
    "query_job = client.query(query)  # Make an API request.\n",
    "print(\"The query data:\")\n",
    "results = query_job.result()  # Waits for job to complete.\n",
    "#iterate through results object to fetch rows.\n",
    "for row in results:\n",
    "    row = str(row)[5:].split(',')[0]\n",
    "    print(f\"rows with license and with home page in github = {row}\")"
   ]
  },
  {
   "cell_type": "code",
   "execution_count": null,
   "metadata": {},
   "outputs": [],
   "source": [
    "#For understanding more on handling Array String data types in bigquery: \n",
    "# https://cloud.google.com/bigquery/docs/reference/standard-sql/array_functions#array_length\n",
    "#https://cloud.google.com/spanner/docs/array_functions\n",
    "#https://stackoverflow.com/questions/19413901/splitting-a-string-column-in-bigquery"
   ]
  },
  {
   "cell_type": "code",
   "execution_count": 22,
   "metadata": {},
   "outputs": [],
   "source": [
    "#This query gives number of rows in the distribution meta data table which have licenses and have the home_page in github and also have dependencies\n",
    "query = \"\"\"\n",
    "    SELECT p.name, p.version, p.author, p.author_email, p.license, p.home_page, dependency\n",
    "    --, ARRAY_TO_STRING(p.requires_dist,',') as dependency\n",
    "    FROM `the-psf.pypi.distribution_metadata` as p\n",
    "    CROSS JOIN UNNEST(p.requires_dist) as dependency\n",
    "    WHERE (lower(license) <> 'none' or lower(license) <> 'no license' or license is NOT NULL) and\n",
    "    version NOT LIKE '%%dev%%' and home_page LIKE '%%github%%' and ARRAY_LENGTH(requires_dist)<>0\n",
    "    --LIMIT 10\n",
    "\"\"\"\n",
    "query_job = client.query(query)  # Make an API request.\n",
    "results = query_job.result()  # Waits for job to complete.\n"
   ]
  },
  {
   "cell_type": "code",
   "execution_count": 23,
   "metadata": {},
   "outputs": [
    {
     "name": "stdout",
     "output_type": "stream",
     "text": [
      "CPU times: user 2min 7s, sys: 10.6 s, total: 2min 17s\n",
      "Wall time: 9min 42s\n"
     ]
    }
   ],
   "source": [
    "%%time\n",
    "dataframe_meta_with_license_dependecies = results.to_dataframe(\n",
    "    # Optionally, explicitly request to use the BigQuery Storage API. As of\n",
    "    # google-cloud-bigquery version 1.26.0 and above, the BigQuery Storage\n",
    "    # API is used by default.\n",
    "    #create_bqstorage_client=True,\n",
    ")"
   ]
  },
  {
   "cell_type": "code",
   "execution_count": 24,
   "metadata": {},
   "outputs": [
    {
     "data": {
      "text/html": [
       "<div>\n",
       "<style scoped>\n",
       "    .dataframe tbody tr th:only-of-type {\n",
       "        vertical-align: middle;\n",
       "    }\n",
       "\n",
       "    .dataframe tbody tr th {\n",
       "        vertical-align: top;\n",
       "    }\n",
       "\n",
       "    .dataframe thead th {\n",
       "        text-align: right;\n",
       "    }\n",
       "</style>\n",
       "<table border=\"1\" class=\"dataframe\">\n",
       "  <thead>\n",
       "    <tr style=\"text-align: right;\">\n",
       "      <th></th>\n",
       "      <th>name</th>\n",
       "      <th>version</th>\n",
       "      <th>author</th>\n",
       "      <th>author_email</th>\n",
       "      <th>license</th>\n",
       "      <th>home_page</th>\n",
       "      <th>dependency</th>\n",
       "    </tr>\n",
       "  </thead>\n",
       "  <tbody>\n",
       "    <tr>\n",
       "      <th>8886181</th>\n",
       "      <td>gas-dynamics</td>\n",
       "      <td>0.3.2</td>\n",
       "      <td>Fernando de la Fuente</td>\n",
       "      <td>FernandoAdelaFuente@gmail.com</td>\n",
       "      <td>MIT</td>\n",
       "      <td>http://github.com/fernancode/gas_dynamics</td>\n",
       "      <td>numpy (==1.19.3)</td>\n",
       "    </tr>\n",
       "    <tr>\n",
       "      <th>8886182</th>\n",
       "      <td>opensurfacesim</td>\n",
       "      <td>0.1.3</td>\n",
       "      <td>Mark Shui Hu</td>\n",
       "      <td>watermarkhu@gmail.com</td>\n",
       "      <td>BSD-3</td>\n",
       "      <td>https://github.com/watermarkhu/opensurfacesim</td>\n",
       "      <td>networkx (&gt;=2.0)</td>\n",
       "    </tr>\n",
       "    <tr>\n",
       "      <th>8886183</th>\n",
       "      <td>husqvarna-getl</td>\n",
       "      <td>1.8.0</td>\n",
       "      <td>Linus Wallin</td>\n",
       "      <td>linus.wallin@husqvarnagroup.com</td>\n",
       "      <td>MIT</td>\n",
       "      <td>https://github.com/husqvarnagroup/GETL/</td>\n",
       "      <td>pyspark (&gt;=2.4.4,&lt;3.1)</td>\n",
       "    </tr>\n",
       "    <tr>\n",
       "      <th>8886184</th>\n",
       "      <td>tqp</td>\n",
       "      <td>0.5.0</td>\n",
       "      <td>Giacomo Tagliabue</td>\n",
       "      <td>giacomo@gmail.com</td>\n",
       "      <td>MIT</td>\n",
       "      <td>https://github.com/4Catalyzer/tqp</td>\n",
       "      <td>boto3</td>\n",
       "    </tr>\n",
       "    <tr>\n",
       "      <th>8886185</th>\n",
       "      <td>dmm-api</td>\n",
       "      <td>0.1.1</td>\n",
       "      <td>Takeru Saito</td>\n",
       "      <td>takelushi@gmail.com</td>\n",
       "      <td>MIT</td>\n",
       "      <td>https://github.com/takelushi/dmm-api-py</td>\n",
       "      <td>requests (&gt;=2.25.0,&lt;3.0.0)</td>\n",
       "    </tr>\n",
       "    <tr>\n",
       "      <th>8886186</th>\n",
       "      <td>evogression</td>\n",
       "      <td>0.6.4</td>\n",
       "      <td>Zach Bateman</td>\n",
       "      <td>None</td>\n",
       "      <td>MIT</td>\n",
       "      <td>https://github.com/zachbateman/evogression.git</td>\n",
       "      <td>tqdm</td>\n",
       "    </tr>\n",
       "    <tr>\n",
       "      <th>8886187</th>\n",
       "      <td>pymap-admin</td>\n",
       "      <td>0.5.3</td>\n",
       "      <td>Ian Good</td>\n",
       "      <td>ian@icgood.net</td>\n",
       "      <td>MIT</td>\n",
       "      <td>https://github.com/icgood/pymap-admin/</td>\n",
       "      <td>protobuf</td>\n",
       "    </tr>\n",
       "    <tr>\n",
       "      <th>8886188</th>\n",
       "      <td>pymap</td>\n",
       "      <td>0.22.2</td>\n",
       "      <td>Ian Good</td>\n",
       "      <td>ian@icgood.net</td>\n",
       "      <td>MIT</td>\n",
       "      <td>https://github.com/icgood/pymap/</td>\n",
       "      <td>proxy-protocol (~=0.5.5)</td>\n",
       "    </tr>\n",
       "    <tr>\n",
       "      <th>8886189</th>\n",
       "      <td>code-video-generator</td>\n",
       "      <td>0.2.0</td>\n",
       "      <td>Don Brown</td>\n",
       "      <td>dbrown@sleuth.io</td>\n",
       "      <td>APLv2 License</td>\n",
       "      <td>https://github.com/sleuth-io/code-video-generator</td>\n",
       "      <td>pyglet (&gt;=1.5.8)</td>\n",
       "    </tr>\n",
       "    <tr>\n",
       "      <th>8886190</th>\n",
       "      <td>code-video-generator</td>\n",
       "      <td>0.2.3</td>\n",
       "      <td>Don Brown</td>\n",
       "      <td>dbrown@sleuth.io</td>\n",
       "      <td>APLv2 License</td>\n",
       "      <td>https://github.com/sleuth-io/code-video-generator</td>\n",
       "      <td>manimce (&gt;=0.1.0)</td>\n",
       "    </tr>\n",
       "  </tbody>\n",
       "</table>\n",
       "</div>"
      ],
      "text/plain": [
       "                         name version                 author  \\\n",
       "8886181          gas-dynamics   0.3.2  Fernando de la Fuente   \n",
       "8886182        opensurfacesim   0.1.3           Mark Shui Hu   \n",
       "8886183        husqvarna-getl   1.8.0           Linus Wallin   \n",
       "8886184                   tqp   0.5.0      Giacomo Tagliabue   \n",
       "8886185               dmm-api   0.1.1           Takeru Saito   \n",
       "8886186           evogression   0.6.4           Zach Bateman   \n",
       "8886187           pymap-admin   0.5.3               Ian Good   \n",
       "8886188                 pymap  0.22.2               Ian Good   \n",
       "8886189  code-video-generator   0.2.0              Don Brown   \n",
       "8886190  code-video-generator   0.2.3              Don Brown   \n",
       "\n",
       "                            author_email        license  \\\n",
       "8886181    FernandoAdelaFuente@gmail.com            MIT   \n",
       "8886182            watermarkhu@gmail.com          BSD-3   \n",
       "8886183  linus.wallin@husqvarnagroup.com            MIT   \n",
       "8886184                giacomo@gmail.com            MIT   \n",
       "8886185              takelushi@gmail.com            MIT   \n",
       "8886186                             None            MIT   \n",
       "8886187                   ian@icgood.net            MIT   \n",
       "8886188                   ian@icgood.net            MIT   \n",
       "8886189                 dbrown@sleuth.io  APLv2 License   \n",
       "8886190                 dbrown@sleuth.io  APLv2 License   \n",
       "\n",
       "                                                 home_page  \\\n",
       "8886181          http://github.com/fernancode/gas_dynamics   \n",
       "8886182      https://github.com/watermarkhu/opensurfacesim   \n",
       "8886183            https://github.com/husqvarnagroup/GETL/   \n",
       "8886184                  https://github.com/4Catalyzer/tqp   \n",
       "8886185            https://github.com/takelushi/dmm-api-py   \n",
       "8886186     https://github.com/zachbateman/evogression.git   \n",
       "8886187             https://github.com/icgood/pymap-admin/   \n",
       "8886188                   https://github.com/icgood/pymap/   \n",
       "8886189  https://github.com/sleuth-io/code-video-generator   \n",
       "8886190  https://github.com/sleuth-io/code-video-generator   \n",
       "\n",
       "                         dependency  \n",
       "8886181            numpy (==1.19.3)  \n",
       "8886182            networkx (>=2.0)  \n",
       "8886183      pyspark (>=2.4.4,<3.1)  \n",
       "8886184                       boto3  \n",
       "8886185  requests (>=2.25.0,<3.0.0)  \n",
       "8886186                        tqdm  \n",
       "8886187                    protobuf  \n",
       "8886188    proxy-protocol (~=0.5.5)  \n",
       "8886189            pyglet (>=1.5.8)  \n",
       "8886190           manimce (>=0.1.0)  "
      ]
     },
     "execution_count": 24,
     "metadata": {},
     "output_type": "execute_result"
    }
   ],
   "source": [
    "dataframe_meta_with_license_dependecies.tail(10)"
   ]
  },
  {
   "cell_type": "code",
   "execution_count": 25,
   "metadata": {},
   "outputs": [
    {
     "name": "stdout",
     "output_type": "stream",
     "text": [
      "All= (8886191, 7)\n",
      "with licenses= (8886191, 7)\n",
      "with authors= (8615637, 7)\n",
      "with author_email= (7665918, 7)\n"
     ]
    }
   ],
   "source": [
    "#some stats\n",
    "print('All=',dataframe_meta_with_license_dependecies.shape)\n",
    "print('with licenses=',dataframe_meta_with_license_dependecies[dataframe_meta_with_license_dependecies.license.isna()==False].shape)\n",
    "print('with authors=',dataframe_meta_with_license_dependecies[dataframe_meta_with_license_dependecies.author.isna()==False].shape)\n",
    "print('with author_email=',dataframe_meta_with_license_dependecies[dataframe_meta_with_license_dependecies.author_email.isna()==False].shape)"
   ]
  },
  {
   "cell_type": "code",
   "execution_count": 26,
   "metadata": {},
   "outputs": [],
   "source": [
    "#changing all text to lower for easy querying\n",
    "df_pypi_meta_with_license = dataframe_meta_with_license_dependecies.apply(lambda x: x.astype(str).str.lower())"
   ]
  },
  {
   "cell_type": "code",
   "execution_count": 27,
   "metadata": {},
   "outputs": [],
   "source": [
    "#save to csv\n",
    "df_pypi_meta_with_license.to_csv('pypi_meta_with_license_dependecies.csv')"
   ]
  },
  {
   "cell_type": "markdown",
   "metadata": {},
   "source": [
    "# Sample query to pull Downloads data"
   ]
  },
  {
   "cell_type": "code",
   "execution_count": null,
   "metadata": {},
   "outputs": [],
   "source": [
    "#https://medium.com/google-cloud/how-to-work-with-array-and-structs-in-bigquery-9c0a2ea584a6"
   ]
  },
  {
   "cell_type": "code",
   "execution_count": null,
   "metadata": {},
   "outputs": [],
   "source": [
    "%%time\n",
    "#This query pulls data from downloads table\n",
    "\n",
    "query_downloads = \"\"\"\n",
    "    SELECT  country_code, file.project as name, file.version as version, Count(file.project) as num_downloads\n",
    "    FROM `bigquery-public-data.pypi.file_downloads`\n",
    "    WHERE\n",
    "    DATE(timestamp)\n",
    "    BETWEEN DATE_TRUNC(DATE_SUB(DATE('2020-01-01'), INTERVAL 365 DAY), DAY)\n",
    "    AND DATE('2020-01-01')--CURRENT_DATE()\n",
    "    GROUP BY country_code, file.project, file.version\n",
    "    ORDER BY Count(file.project) DESC\n",
    "    --LIMIT 5 --use for checking sample data before running whole query\n",
    "\"\"\"\n",
    "query_job_dl = client.query(query_downloads)  # Make an API request.\n",
    "results_downloads = query_job_dl.result()  # Waits for job to complete."
   ]
  },
  {
   "cell_type": "code",
   "execution_count": null,
   "metadata": {},
   "outputs": [],
   "source": [
    "%%time\n",
    "dataframe_downloads = results_downloads.to_dataframe(\n",
    "    # Optionally, explicitly request to use the BigQuery Storage API. As of\n",
    "    # google-cloud-bigquery version 1.26.0 and above, the BigQuery Storage\n",
    "    # API is used by default.\n",
    "    #create_bqstorage_client=True,\n",
    ")"
   ]
  },
  {
   "cell_type": "code",
   "execution_count": null,
   "metadata": {},
   "outputs": [],
   "source": [
    "%%time\n",
    "dataframe_downloads.shape"
   ]
  },
  {
   "cell_type": "code",
   "execution_count": null,
   "metadata": {},
   "outputs": [],
   "source": [
    "dataframe_downloads.to_csv('pypi_downloads_DAY_1028201.csv')"
   ]
  },
  {
   "cell_type": "markdown",
   "metadata": {},
   "source": [
    "## EDA"
   ]
  },
  {
   "cell_type": "code",
   "execution_count": 2,
   "metadata": {},
   "outputs": [
    {
     "data": {
      "text/html": [
       "<div>\n",
       "<style scoped>\n",
       "    .dataframe tbody tr th:only-of-type {\n",
       "        vertical-align: middle;\n",
       "    }\n",
       "\n",
       "    .dataframe tbody tr th {\n",
       "        vertical-align: top;\n",
       "    }\n",
       "\n",
       "    .dataframe thead th {\n",
       "        text-align: right;\n",
       "    }\n",
       "</style>\n",
       "<table border=\"1\" class=\"dataframe\">\n",
       "  <thead>\n",
       "    <tr style=\"text-align: right;\">\n",
       "      <th></th>\n",
       "      <th>Unnamed: 0</th>\n",
       "      <th>country_code</th>\n",
       "      <th>name</th>\n",
       "      <th>version</th>\n",
       "      <th>num_downloads</th>\n",
       "    </tr>\n",
       "  </thead>\n",
       "  <tbody>\n",
       "    <tr>\n",
       "      <th>0</th>\n",
       "      <td>0</td>\n",
       "      <td>CA</td>\n",
       "      <td>six</td>\n",
       "      <td>1.16.0</td>\n",
       "      <td>94023511</td>\n",
       "    </tr>\n",
       "    <tr>\n",
       "      <th>1</th>\n",
       "      <td>1</td>\n",
       "      <td>CA</td>\n",
       "      <td>python-dateutil</td>\n",
       "      <td>2.8.2</td>\n",
       "      <td>93841598</td>\n",
       "    </tr>\n",
       "    <tr>\n",
       "      <th>2</th>\n",
       "      <td>2</td>\n",
       "      <td>CA</td>\n",
       "      <td>urllib3</td>\n",
       "      <td>1.26.7</td>\n",
       "      <td>93715131</td>\n",
       "    </tr>\n",
       "    <tr>\n",
       "      <th>3</th>\n",
       "      <td>3</td>\n",
       "      <td>CA</td>\n",
       "      <td>jmespath</td>\n",
       "      <td>0.10.0</td>\n",
       "      <td>93546532</td>\n",
       "    </tr>\n",
       "    <tr>\n",
       "      <th>4</th>\n",
       "      <td>4</td>\n",
       "      <td>CA</td>\n",
       "      <td>s3transfer</td>\n",
       "      <td>0.5.0</td>\n",
       "      <td>93111389</td>\n",
       "    </tr>\n",
       "    <tr>\n",
       "      <th>...</th>\n",
       "      <td>...</td>\n",
       "      <td>...</td>\n",
       "      <td>...</td>\n",
       "      <td>...</td>\n",
       "      <td>...</td>\n",
       "    </tr>\n",
       "    <tr>\n",
       "      <th>39930351</th>\n",
       "      <td>39930351</td>\n",
       "      <td>KR</td>\n",
       "      <td>scrapy-wayback</td>\n",
       "      <td>1.0.2</td>\n",
       "      <td>1</td>\n",
       "    </tr>\n",
       "    <tr>\n",
       "      <th>39930352</th>\n",
       "      <td>39930352</td>\n",
       "      <td>KR</td>\n",
       "      <td>loge</td>\n",
       "      <td>0.2.3</td>\n",
       "      <td>1</td>\n",
       "    </tr>\n",
       "    <tr>\n",
       "      <th>39930353</th>\n",
       "      <td>39930353</td>\n",
       "      <td>KR</td>\n",
       "      <td>limix-plot</td>\n",
       "      <td>0.0.7</td>\n",
       "      <td>1</td>\n",
       "    </tr>\n",
       "    <tr>\n",
       "      <th>39930354</th>\n",
       "      <td>39930354</td>\n",
       "      <td>IS</td>\n",
       "      <td>rkd-pythonic</td>\n",
       "      <td>2.4.0.0b2.dev99</td>\n",
       "      <td>1</td>\n",
       "    </tr>\n",
       "    <tr>\n",
       "      <th>39930355</th>\n",
       "      <td>39930355</td>\n",
       "      <td>KR</td>\n",
       "      <td>odoo8-addon-base-continent</td>\n",
       "      <td>8.0.1.0.1.99.dev9</td>\n",
       "      <td>1</td>\n",
       "    </tr>\n",
       "  </tbody>\n",
       "</table>\n",
       "<p>39930356 rows × 5 columns</p>\n",
       "</div>"
      ],
      "text/plain": [
       "          Unnamed: 0 country_code                        name  \\\n",
       "0                  0           CA                         six   \n",
       "1                  1           CA             python-dateutil   \n",
       "2                  2           CA                     urllib3   \n",
       "3                  3           CA                    jmespath   \n",
       "4                  4           CA                  s3transfer   \n",
       "...              ...          ...                         ...   \n",
       "39930351    39930351           KR              scrapy-wayback   \n",
       "39930352    39930352           KR                        loge   \n",
       "39930353    39930353           KR                  limix-plot   \n",
       "39930354    39930354           IS                rkd-pythonic   \n",
       "39930355    39930355           KR  odoo8-addon-base-continent   \n",
       "\n",
       "                    version  num_downloads  \n",
       "0                    1.16.0       94023511  \n",
       "1                     2.8.2       93841598  \n",
       "2                    1.26.7       93715131  \n",
       "3                    0.10.0       93546532  \n",
       "4                     0.5.0       93111389  \n",
       "...                     ...            ...  \n",
       "39930351              1.0.2              1  \n",
       "39930352              0.2.3              1  \n",
       "39930353              0.0.7              1  \n",
       "39930354    2.4.0.0b2.dev99              1  \n",
       "39930355  8.0.1.0.1.99.dev9              1  \n",
       "\n",
       "[39930356 rows x 5 columns]"
      ]
     },
     "execution_count": 2,
     "metadata": {},
     "output_type": "execute_result"
    }
   ],
   "source": [
    "#if we need to read data for eda\n",
    "#downloads = pd.read_csv('pypi_downloads_DAY_1028201.csv')"
   ]
  },
  {
   "cell_type": "code",
   "execution_count": null,
   "metadata": {},
   "outputs": [],
   "source": []
  }
 ],
 "metadata": {
  "interpreter": {
   "hash": "c6b143de6850e971449b4277dbd320c3d82718d201b432a8f88e7efe9f861802"
  },
  "kernelspec": {
   "display_name": "Python 3",
   "language": "python",
   "name": "python3"
  },
  "language_info": {
   "codemirror_mode": {
    "name": "ipython",
    "version": 3
   },
   "file_extension": ".py",
   "mimetype": "text/x-python",
   "name": "python",
   "nbconvert_exporter": "python",
   "pygments_lexer": "ipython3",
   "version": "3.8.8"
  }
 },
 "nbformat": 4,
 "nbformat_minor": 4
}

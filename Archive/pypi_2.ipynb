{
 "cells": [
  {
   "cell_type": "code",
   "execution_count": 1,
   "source": [
    "import os\r\n",
    "import requests\r\n",
    "from bs4 import BeautifulSoup"
   ],
   "outputs": [],
   "metadata": {}
  },
  {
   "cell_type": "markdown",
   "source": [
    "There were a few APIs at the time of this notebook.\r\n",
    "Directly at pypi\r\n",
    "- https://wiki.python.org/moin/PyPIJSON\r\n",
    "- In the format https://pypi.python.org/pypi/<package_name>/json\r\n",
    "\r\n",
    "There is also https://pypistats.org/\r\n",
    " - They ask that any large amount of API access go through Google Big Query\r\n",
    "\r\n",
    "Google Big Query\r\n",
    "- https://cloud.google.com/docs/authentication/getting-started\r\n",
    "- https://bigquery.cloud.google.com/table/the-psf:pypi.downloads\r\n"
   ],
   "metadata": {}
  },
  {
   "cell_type": "code",
   "execution_count": 30,
   "source": [
    "# May need to install these\r\n",
    "#!pip install jk_pypiorgapi\r\n",
    "#!pip install pyarrow"
   ],
   "outputs": [
    {
     "output_type": "stream",
     "name": "stdout",
     "text": [
      "Collecting pyarrow\n",
      "  Downloading pyarrow-5.0.0-cp38-cp38-win_amd64.whl (14.5 MB)\n",
      "Requirement already satisfied: numpy>=1.16.6 in c:\\users\\derek\\anaconda3\\lib\\site-packages (from pyarrow) (1.20.3)\n",
      "Installing collected packages: pyarrow\n",
      "Successfully installed pyarrow-5.0.0\n"
     ]
    }
   ],
   "metadata": {}
  },
  {
   "cell_type": "code",
   "execution_count": 3,
   "source": [
    "import jk_pypiorgapi\r\n",
    "\r\n",
    "api = jk_pypiorgapi.PyPiOrgAPI()\r\n",
    "n = len(api.listAllPackages())\r\n",
    "print(\"Number of packages on pypi.org:\", n)"
   ],
   "outputs": [
    {
     "output_type": "stream",
     "name": "stdout",
     "text": [
      "Number of packages on pypi.org: 330133\n"
     ]
    }
   ],
   "metadata": {}
  },
  {
   "cell_type": "code",
   "execution_count": 4,
   "source": [
    "temp = api.listAllPackages()\r\n",
    "for i in range(10):\r\n",
    "    print(temp[i])"
   ],
   "outputs": [
    {
     "output_type": "stream",
     "name": "stdout",
     "text": [
      "('/simple/0/', '0')\n",
      "('/simple/0-0/', '0-._.-._.-._.-._.-._.-._.-0')\n",
      "('/simple/00000a/', '00000a')\n",
      "('/simple/0-0-1/', '0.0.1')\n",
      "('/simple/00print-lol/', '00print_lol')\n",
      "('/simple/00smalinux/', '00SMALINUX')\n",
      "('/simple/0121/', '0121')\n",
      "('/simple/01changer/', '01changer')\n",
      "('/simple/01d61084-d29e-11e9-96d1-7c5cf84ffe8e/', '01d61084-d29e-11e9-96d1-7c5cf84ffe8e')\n",
      "('/simple/01-distributions/', '01-distributions')\n"
     ]
    }
   ],
   "metadata": {}
  },
  {
   "cell_type": "code",
   "execution_count": 30,
   "source": [
    "#print(type(temp))\r\n",
    "prj_str = 'tzflaskoidc'\r\n",
    "matches = [match for match in temp if prj_str in match]\r\n",
    "\r\n",
    "print(matches)"
   ],
   "outputs": [
    {
     "output_type": "stream",
     "name": "stdout",
     "text": [
      "[('/simple/tzflaskoidc/', 'tzflaskoidc')]\n"
     ]
    }
   ],
   "metadata": {}
  },
  {
   "cell_type": "markdown",
   "source": [
    "## Authenticate and Construct Google Big Query Object"
   ],
   "metadata": {}
  },
  {
   "cell_type": "code",
   "execution_count": 7,
   "source": [
    "from google.cloud import bigquery\r\n",
    "from google.oauth2 import service_account\r\n",
    "\r\n",
    "# TODO(developer): Set key_path to the path to the service account key\r\n",
    "#                  file.\r\n",
    "key_path = \"msds-pypi-89bc81421c55.json\"\r\n",
    "\r\n",
    "credentials = service_account.Credentials.from_service_account_file(\r\n",
    "    key_path, scopes=[\"https://www.googleapis.com/auth/cloud-platform\"],\r\n",
    ")\r\n",
    "\r\n",
    "client = bigquery.Client(credentials=credentials, project=credentials.project_id,)\r\n",
    "\r\n",
    "# Construct a BigQuery client object.\r\n",
    "#client = bigquery.Client()\r\n",
    "\r\n",
    "query = \"\"\"\r\n",
    "    SELECT COUNT(*) AS num_downloads\r\n",
    "    FROM `bigquery-public-data.pypi.file_downloads`\r\n",
    "    WHERE file.project = 'pytest'\r\n",
    "    -- Only query the last 30 days of history\r\n",
    "    AND DATE(timestamp)\r\n",
    "    BETWEEN DATE_SUB(CURRENT_DATE(), INTERVAL 30 DAY)\r\n",
    "    AND CURRENT_DATE()\r\n",
    "\"\"\"\r\n",
    "query_job = client.query(query)  # Make an API request.\r\n",
    "\r\n",
    "print(\"The query data:\")\r\n",
    "results = query_job.result()  # Waits for job to complete.\r\n",
    "for row in results:\r\n",
    "    print(\"{} downloads\".format(row.num_downloads))"
   ],
   "outputs": [
    {
     "output_type": "stream",
     "name": "stdout",
     "text": [
      "The query data:\n",
      "32746206 downloads\n"
     ]
    }
   ],
   "metadata": {}
  },
  {
   "cell_type": "code",
   "execution_count": 8,
   "source": [
    "print(query_job)\r\n",
    "for row in query_job:\r\n",
    "    print(row)"
   ],
   "outputs": [
    {
     "output_type": "stream",
     "name": "stdout",
     "text": [
      "QueryJob<project=msds-pypi, location=US, id=d2899f0b-ab2b-434e-993f-74f8ffeacd4b>\n",
      "Row((32746206,), {'num_downloads': 0})\n"
     ]
    }
   ],
   "metadata": {}
  },
  {
   "cell_type": "code",
   "execution_count": 27,
   "source": [
    "query_job2 = client.query(\"\"\"\r\n",
    "SELECT name,version,license\r\n",
    "FROM `bigquery-public-data.pypi.distribution_metadata`\r\n",
    "WHERE name = 'atlas'\"\"\")\r\n",
    "\r\n",
    "results2 = query_job2.result()  # Waits for job to complete.\r\n",
    "#for row in results2:\r\n",
    "    #print(\"{} downloads\".format(row.num_downloads))\r\n",
    " #   print(row)"
   ],
   "outputs": [],
   "metadata": {}
  },
  {
   "cell_type": "code",
   "execution_count": 28,
   "source": [
    "for row in results2:\r\n",
    "    #print(\"{} downloads\".format(row.num_downloads))\r\n",
    "    print(row)"
   ],
   "outputs": [
    {
     "output_type": "stream",
     "name": "stdout",
     "text": [
      "Row(('atlas', '0.25', 'Apache 2.0'), {'name': 0, 'version': 1, 'license': 2})\n",
      "Row(('atlas', '0.25.6', 'Apache 2.0'), {'name': 0, 'version': 1, 'license': 2})\n",
      "Row(('atlas', '0.25.4', None), {'name': 0, 'version': 1, 'license': 2})\n",
      "Row(('atlas', '0.25.2', 'Apache 2.0'), {'name': 0, 'version': 1, 'license': 2})\n",
      "Row(('atlas', '0.25.3', 'Apache 2.0'), {'name': 0, 'version': 1, 'license': 2})\n",
      "Row(('atlas', '0.25.5', None), {'name': 0, 'version': 1, 'license': 2})\n",
      "Row(('atlas', '0.21', 'Apache 2.0'), {'name': 0, 'version': 1, 'license': 2})\n",
      "Row(('atlas', '0.25.5', None), {'name': 0, 'version': 1, 'license': 2})\n",
      "Row(('atlas', '0.25.1', 'Apache 2.0'), {'name': 0, 'version': 1, 'license': 2})\n",
      "Row(('atlas', '0.25.3', 'Apache 2.0'), {'name': 0, 'version': 1, 'license': 2})\n",
      "Row(('atlas', '0.25.3', 'Apache 2.0'), {'name': 0, 'version': 1, 'license': 2})\n",
      "Row(('atlas', '0.27.0', 'Apache 2.0'), {'name': 0, 'version': 1, 'license': 2})\n",
      "Row(('atlas', '0.25.4', None), {'name': 0, 'version': 1, 'license': 2})\n",
      "Row(('atlas', '0.25.3', 'Apache 2.0'), {'name': 0, 'version': 1, 'license': 2})\n",
      "Row(('atlas', '0.25.3', 'Apache 2.0'), {'name': 0, 'version': 1, 'license': 2})\n",
      "Row(('atlas', '0.26.0', 'Apache 2.0'), {'name': 0, 'version': 1, 'license': 2})\n"
     ]
    }
   ],
   "metadata": {}
  },
  {
   "cell_type": "code",
   "execution_count": 35,
   "source": [
    "from google.cloud import bigquery\r\n",
    "\r\n",
    "bqclient = bigquery.Client(credentials=credentials, project=credentials.project_id)\r\n",
    "\r\n",
    "# Download a table.\r\n",
    "table = bigquery.TableReference.from_string(\r\n",
    "    \"bigquery-public-data.pypi.distribution_metadata\"\r\n",
    ")\r\n",
    "rows = bqclient.list_rows(\r\n",
    "    table,\r\n",
    "    selected_fields=[\r\n",
    "        bigquery.SchemaField(\"name\", \"STRING\"),\r\n",
    "        bigquery.SchemaField(\"license\", \"STRING\"),\r\n",
    "    ],\r\n",
    ")\r\n",
    "dataframe = rows.to_dataframe(\r\n",
    "    # Optionally, explicitly request to use the BigQuery Storage API. As of\r\n",
    "    # google-cloud-bigquery version 1.26.0 and above, the BigQuery Storage\r\n",
    "    # API is used by default.\r\n",
    "    #create_bqstorage_client=True,\r\n",
    ")\r\n",
    "print(dataframe.head())"
   ],
   "outputs": [
    {
     "output_type": "error",
     "ename": "ValueError",
     "evalue": "The pyarrow library is not installed, please install pyarrow to use the to_arrow() function.",
     "traceback": [
      "\u001b[1;31m---------------------------------------------------------------------------\u001b[0m",
      "\u001b[1;31mValueError\u001b[0m                                Traceback (most recent call last)",
      "\u001b[1;32m<ipython-input-35-54334c1013b4>\u001b[0m in \u001b[0;36m<module>\u001b[1;34m\u001b[0m\n\u001b[0;32m     14\u001b[0m     ],\n\u001b[0;32m     15\u001b[0m )\n\u001b[1;32m---> 16\u001b[1;33m dataframe = rows.to_dataframe(\n\u001b[0m\u001b[0;32m     17\u001b[0m     \u001b[1;31m# Optionally, explicitly request to use the BigQuery Storage API. As of\u001b[0m\u001b[1;33m\u001b[0m\u001b[1;33m\u001b[0m\u001b[1;33m\u001b[0m\u001b[0m\n\u001b[0;32m     18\u001b[0m     \u001b[1;31m# google-cloud-bigquery version 1.26.0 and above, the BigQuery Storage\u001b[0m\u001b[1;33m\u001b[0m\u001b[1;33m\u001b[0m\u001b[1;33m\u001b[0m\u001b[0m\n",
      "\u001b[1;32m~\\anaconda3\\lib\\site-packages\\google\\cloud\\bigquery\\table.py\u001b[0m in \u001b[0;36mto_dataframe\u001b[1;34m(self, bqstorage_client, dtypes, progress_bar_type, create_bqstorage_client, date_as_object, geography_as_object)\u001b[0m\n\u001b[0;32m   1936\u001b[0m             \u001b[0mbqstorage_client\u001b[0m \u001b[1;33m=\u001b[0m \u001b[1;32mNone\u001b[0m\u001b[1;33m\u001b[0m\u001b[1;33m\u001b[0m\u001b[0m\n\u001b[0;32m   1937\u001b[0m \u001b[1;33m\u001b[0m\u001b[0m\n\u001b[1;32m-> 1938\u001b[1;33m         record_batch = self.to_arrow(\n\u001b[0m\u001b[0;32m   1939\u001b[0m             \u001b[0mprogress_bar_type\u001b[0m\u001b[1;33m=\u001b[0m\u001b[0mprogress_bar_type\u001b[0m\u001b[1;33m,\u001b[0m\u001b[1;33m\u001b[0m\u001b[1;33m\u001b[0m\u001b[0m\n\u001b[0;32m   1940\u001b[0m             \u001b[0mbqstorage_client\u001b[0m\u001b[1;33m=\u001b[0m\u001b[0mbqstorage_client\u001b[0m\u001b[1;33m,\u001b[0m\u001b[1;33m\u001b[0m\u001b[1;33m\u001b[0m\u001b[0m\n",
      "\u001b[1;32m~\\anaconda3\\lib\\site-packages\\google\\cloud\\bigquery\\table.py\u001b[0m in \u001b[0;36mto_arrow\u001b[1;34m(self, progress_bar_type, bqstorage_client, create_bqstorage_client)\u001b[0m\n\u001b[0;32m   1711\u001b[0m         \"\"\"\n\u001b[0;32m   1712\u001b[0m         \u001b[1;32mif\u001b[0m \u001b[0mpyarrow\u001b[0m \u001b[1;32mis\u001b[0m \u001b[1;32mNone\u001b[0m\u001b[1;33m:\u001b[0m\u001b[1;33m\u001b[0m\u001b[1;33m\u001b[0m\u001b[0m\n\u001b[1;32m-> 1713\u001b[1;33m             \u001b[1;32mraise\u001b[0m \u001b[0mValueError\u001b[0m\u001b[1;33m(\u001b[0m\u001b[0m_NO_PYARROW_ERROR\u001b[0m\u001b[1;33m)\u001b[0m\u001b[1;33m\u001b[0m\u001b[1;33m\u001b[0m\u001b[0m\n\u001b[0m\u001b[0;32m   1714\u001b[0m \u001b[1;33m\u001b[0m\u001b[0m\n\u001b[0;32m   1715\u001b[0m         \u001b[0mself\u001b[0m\u001b[1;33m.\u001b[0m\u001b[0m_maybe_warn_max_results\u001b[0m\u001b[1;33m(\u001b[0m\u001b[0mbqstorage_client\u001b[0m\u001b[1;33m)\u001b[0m\u001b[1;33m\u001b[0m\u001b[1;33m\u001b[0m\u001b[0m\n",
      "\u001b[1;31mValueError\u001b[0m: The pyarrow library is not installed, please install pyarrow to use the to_arrow() function."
     ]
    }
   ],
   "metadata": {}
  },
  {
   "cell_type": "code",
   "execution_count": null,
   "source": [
    "query_job = client.query(\"\"\"\r\n",
    "SELECT COUNT(*) AS num_downloads\r\n",
    "FROM `bigquery-public-data.pypi.file_downloads`\r\n",
    "WHERE file.project = 'pytest'\r\n",
    "  -- Only query the last 30 days of history\r\n",
    "  AND DATE(timestamp)\r\n",
    "    BETWEEN DATE_SUB(CURRENT_DATE(), INTERVAL 30 DAY)\r\n",
    "    AND CURRENT_DATE()\"\"\")\r\n",
    "\r\n",
    "results = query_job.result()  # Waits for job to complete."
   ],
   "outputs": [],
   "metadata": {}
  }
 ],
 "metadata": {
  "orig_nbformat": 4,
  "language_info": {
   "name": "python",
   "version": "3.8.11",
   "mimetype": "text/x-python",
   "codemirror_mode": {
    "name": "ipython",
    "version": 3
   },
   "pygments_lexer": "ipython3",
   "nbconvert_exporter": "python",
   "file_extension": ".py"
  },
  "kernelspec": {
   "name": "python3",
   "display_name": "Python 3.8.11 64-bit ('base': conda)"
  },
  "interpreter": {
   "hash": "0f9908abc8474d2f73cca78b3aba51555171f5abb829aaeeec4246efdc40138f"
  }
 },
 "nbformat": 4,
 "nbformat_minor": 2
}

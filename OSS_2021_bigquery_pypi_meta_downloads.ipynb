{
 "cells": [
  {
   "cell_type": "code",
   "execution_count": null,
   "metadata": {},
   "outputs": [],
   "source": [
    "#import libraries\n",
    "import os\n",
    "import pandas as pd\n",
    "import json\n",
    "from google.cloud import bigquery\n",
    "from google.oauth2 import service_account"
   ]
  },
  {
   "cell_type": "markdown",
   "metadata": {},
   "source": [
    "# Set the security connection with the google query database to pull the data"
   ]
  },
  {
   "cell_type": "code",
   "execution_count": null,
   "metadata": {},
   "outputs": [],
   "source": [
    "# key-file is specfic to user\n",
    "key_path = 'msdscapstone-db80de77b383.json'\n",
    "\n",
    "credentials = service_account.Credentials.from_service_account_file(\n",
    "    key_path, scopes=[\"https://www.googleapis.com/auth/cloud-platform\"],\n",
    ")\n",
    "\n",
    "client = bigquery.Client(credentials=credentials, project=credentials.project_id,)"
   ]
  },
  {
   "cell_type": "markdown",
   "metadata": {},
   "source": [
    "# Query the pypi distirbution_metadata table for all the data except for those packages which are still in development\n",
    "* Select p.name, p.version, p.author, p.author_email, p.license, p.home_page, dependency\n",
    "* requires_dist renamed as dependency is in array string format and needs to be un nest to explode\n",
    "* this code unnests dependency and joins back to the data"
   ]
  },
  {
   "cell_type": "code",
   "execution_count": null,
   "metadata": {},
   "outputs": [],
   "source": [
    "#this query gets all rows in metatable and splits dependency array into seperate columns and left joins back with the table to explode as rows. \n",
    "# thsi is supposed to join those with no dependencies as well\n",
    "meta_all =  \"\"\"\n",
    "    SELECT p.name, p.version, p.author, p.author_email, p.license, p.home_page, dependency\n",
    "    FROM `the-psf.pypi.distribution_metadata` as p\n",
    "    LEFT JOIN UNNEST(p.requires_dist) as dependency\n",
    "    WHERE version NOT LIKE '%%dev%%' \n",
    "    \"\"\"\n",
    "query_job = client.query(meta_all)  # Make an API request.\n",
    "results = query_job.result()  # Waits for job to complete.\n",
    "\n",
    "meta_all_df = results.to_dataframe()\n",
    "\n",
    "meta_all_df.to_csv('/project/class/sds_sdad/oss_capstone2021-2022/pypi_meta_all_no_dev.csv')"
   ]
  },
  {
   "cell_type": "markdown",
   "metadata": {},
   "source": [
    "# Query the pypi distirbution_metadata table for the dat only with license and a github homepage\n",
    "* Select p.name, p.version, p.author, p.author_email, p.license, p.home_page, dependency\n",
    "* requires_dist renamed as dependency is in array string format and needs to be un nest to explode\n",
    "* this code unnests dependency and joins back to the data\n",
    "* WHERE (lower(license) <> 'none' or lower(license) <> 'no license' or license is NOT NULL) and version NOT LIKE '%%dev%%' and home_page LIKE '%%github%%'"
   ]
  },
  {
   "cell_type": "code",
   "execution_count": null,
   "metadata": {},
   "outputs": [],
   "source": [
    "#This query gives number of rows in the distribution meta data table which have licenses and have the home_page in github with dependencies exploded\n",
    "meta_github = \"\"\"\n",
    "    SELECT p.name, p.version, p.author, p.author_email, p.license, p.home_page, dependency\n",
    "    --, ARRAY_TO_STRING(p.requires_dist,',') as dependency\n",
    "    FROM `the-psf.pypi.distribution_metadata` as p\n",
    "    LEFT JOIN UNNEST(p.requires_dist) as dependency\n",
    "    WHERE (lower(license) <> 'none' or lower(license) <> 'no license' or license is NOT NULL) and\n",
    "    version NOT LIKE '%%dev%%' and home_page LIKE '%%github%%' \n",
    "    -- LIMIT 10\n",
    "\"\"\"\n",
    "query_job = client.query(meta_github)  # Make an API request.\n",
    "results = query_job.result()  # Waits for job to complete.\n",
    "\n",
    "dataframe_meta_with_license_dependecies = results.to_dataframe()\n",
    "\n",
    "dataframe_meta_with_license_dependecies.to_csv('/project/class/sds_sdad/oss_capstone2021-2022/pypi_meta_licence_github_no_dev.csv')"
   ]
  },
  {
   "cell_type": "markdown",
   "metadata": {},
   "source": [
    "# Query the pypi downloads for 2020-01-01 to 2020-12-31\n",
    "* select country_code, file.project as name, file.version as version, Count(file.project) as num_downloads\n",
    "* BETWEEN DATE_TRUNC(DATE_SUB(DATE('2020-12-31'), INTERVAL 365 DAY), DAY) AND DATE('2020-12-31')\n",
    "* Aggregate the number of downlaods fper package, versio nand by country - GROUP BY country_code, file.project, file.version"
   ]
  },
  {
   "cell_type": "code",
   "execution_count": null,
   "metadata": {},
   "outputs": [],
   "source": [
    "#this query get downloads data from pypi big query downloads table for 01012020 t0 12-31-2020\n",
    "query_downloads = \"\"\"\n",
    "    SELECT  country_code, file.project as name, file.version as version, Count(file.project) as num_downloads --, DATE(timestamp) as timestamp\n",
    "    FROM `bigquery-public-data.pypi.file_downloads`\n",
    "    WHERE\n",
    "    DATE(timestamp)\n",
    "    BETWEEN DATE_TRUNC(DATE_SUB(DATE('2020-12-31'), INTERVAL 365 DAY), DAY)\n",
    "    AND DATE('2020-12-31') --CURRENT_DATE()\n",
    "    GROUP BY country_code, file.project, file.version --,timestamp\n",
    "    ORDER BY Count(file.project) \n",
    "    -- LIMIT 5 --use for checking sample data before running whole query\n",
    "\"\"\"\n",
    "query_job_dl = client.query(query_downloads)  # Make an API request.\n",
    "results_downloads = query_job_dl.result()  # Waits for job to complete.\n",
    "\n",
    "dataframe_downloads = results_downloads.to_dataframe()\n",
    "\n",
    "dataframe_downloads.to_csv('/project/class/sds_sdad/oss_capstone2021-2022/pypi_downloads_365DAY_01012020.csv')"
   ]
  }
 ],
 "metadata": {
  "kernelspec": {
   "display_name": "Python 3",
   "language": "python",
   "name": "python3"
  },
  "language_info": {
   "codemirror_mode": {
    "name": "ipython",
    "version": 3
   },
   "file_extension": ".py",
   "mimetype": "text/x-python",
   "name": "python",
   "nbconvert_exporter": "python",
   "pygments_lexer": "ipython3",
   "version": "3.8.8"
  }
 },
 "nbformat": 4,
 "nbformat_minor": 4
}
